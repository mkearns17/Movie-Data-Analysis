{
 "cells": [
  {
   "cell_type": "markdown",
   "id": "12038f20-5b34-40ca-8700-62a88e8fee4e",
   "metadata": {},
   "source": [
    "# Movie Data Analysis\n",
    "by Michael Kearns"
   ]
  },
  {
   "cell_type": "markdown",
   "id": "e2f38e95-e519-473c-9aaf-d4ef3099bb35",
   "metadata": {},
   "source": [
    "# Business Understanding"
   ]
  },
  {
   "cell_type": "markdown",
   "id": "ec4b8aaf-84a0-42e6-85aa-3c019c708c13",
   "metadata": {},
   "source": [
    "# Data Understanding"
   ]
  },
  {
   "cell_type": "markdown",
   "id": "ffd741c5-4bb4-43c9-995c-63175e364721",
   "metadata": {},
   "source": [
    "## Data Preparatation"
   ]
  },
  {
   "cell_type": "markdown",
   "id": "2c02a4ed-8be3-42d8-b430-fa2325d5aa3b",
   "metadata": {},
   "source": [
    "# Exploratory Data Analysis"
   ]
  },
  {
   "cell_type": "markdown",
   "id": "592c00e0-e608-4306-a365-692c7b617a61",
   "metadata": {},
   "source": [
    "# Conclusion"
   ]
  },
  {
   "cell_type": "markdown",
   "id": "23c8eda2-c7b1-48a5-9270-bac27a336e5e",
   "metadata": {},
   "source": [
    "## Limitations"
   ]
  },
  {
   "cell_type": "markdown",
   "id": "6c12e754-9186-4ddc-86d8-a5de84e74cc3",
   "metadata": {},
   "source": [
    "## Recommendations"
   ]
  },
  {
   "cell_type": "markdown",
   "id": "ce9e901a-e9b4-49b1-89cd-cea6fda7c5b2",
   "metadata": {},
   "source": [
    "## Next Steps"
   ]
  },
  {
   "cell_type": "code",
   "execution_count": null,
   "id": "eb21ea89-453f-438a-bf72-ca2d059ba6a6",
   "metadata": {},
   "outputs": [],
   "source": []
  }
 ],
 "metadata": {
  "kernelspec": {
   "display_name": "Python (my-learn-env)",
   "language": "python",
   "name": "learn-env"
  },
  "language_info": {
   "codemirror_mode": {
    "name": "ipython",
    "version": 3
   },
   "file_extension": ".py",
   "mimetype": "text/x-python",
   "name": "python",
   "nbconvert_exporter": "python",
   "pygments_lexer": "ipython3",
   "version": "3.8.5"
  }
 },
 "nbformat": 4,
 "nbformat_minor": 5
}
